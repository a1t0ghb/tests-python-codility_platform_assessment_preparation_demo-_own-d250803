{
 "cells": [
  {
   "cell_type": "markdown",
   "id": "1d5a319d",
   "metadata": {},
   "source": [
    "# Codility Platform Assessment Demo.\n"
   ]
  },
  {
   "cell_type": "markdown",
   "id": "7754fc03",
   "metadata": {},
   "source": [
    "## Task Instructions.\n"
   ]
  },
  {
   "cell_type": "markdown",
   "id": "40eaf97b",
   "metadata": {},
   "source": [
    "### Screenshot.\n",
    "\n",
    "<img src='rsrcs/imgs/img-codility_platform_demo-01a-instructions_p1.png' width=900>\n"
   ]
  },
  {
   "cell_type": "markdown",
   "id": "f25b5e10",
   "metadata": {},
   "source": [
    "### Files Structure.\n",
    "\n",
    "<img src='rsrcs/imgs/img-solution-files_structure.png'>"
   ]
  },
  {
   "cell_type": "markdown",
   "id": "f74f634a",
   "metadata": {},
   "source": [
    "## Task Instructions (Text).\n",
    "\n",
    "Write a function `def solution(A)`, such that given an array A of N integers, returns the smallest positive integer (greater than 0) that does not occur in A.\n",
    "For example, given:\n",
    "\n",
    "- `A = [1, 3, 6, 4, 1, 2]`: the function should return 5.\n",
    "- `A = [1, 2, 3]`: the function should return 4.\n",
    "- `A = [-1, -3]`: the function should return 1.\n",
    "\n",
    "Write an efficient algorithm for the following assumptions:\n",
    "\n",
    "- N is an integer within the range [1...100K].\n",
    "- Each element of array A is an integer within the range [-1M,...,1M]."
   ]
  },
  {
   "cell_type": "markdown",
   "id": "c9097b76",
   "metadata": {},
   "source": [
    "# Dev. Code."
   ]
  },
  {
   "cell_type": "markdown",
   "id": "83c3914d",
   "metadata": {},
   "source": [
    "## Drafts."
   ]
  },
  {
   "cell_type": "code",
   "execution_count": null,
   "id": "42507d72",
   "metadata": {},
   "outputs": [],
   "source": [
    "#  INIT.\n",
    "INPUT_FILENAME = 'test-input.txt'\n"
   ]
  },
  {
   "cell_type": "code",
   "execution_count": null,
   "id": "f7605a7d",
   "metadata": {},
   "outputs": [],
   "source": [
    "#  GET LISTS FROM INPUT FILE.\n",
    "\n",
    "# INPUT_FILENAME = 'test-input.txt'\n",
    "# list_lists = []\n",
    "\n",
    "# input_file = open(INPUT_FILENAME, 'r')\n",
    "# for input_line_str in input_file.readlines():\n",
    "#     input_line_str_clean = input_line_str.strip().replace(' ', '')\n",
    "#     input_list_str = input_line_str_clean.split(',')\n",
    "#     input_list = list(map(int, input_list_str))\n",
    "#     list_lists.append(input_list)\n",
    "# input_file.close()\n",
    "\n",
    "# print(list_lists)\n"
   ]
  },
  {
   "cell_type": "code",
   "execution_count": 2,
   "id": "2e6a13d4",
   "metadata": {},
   "outputs": [],
   "source": [
    "#  GET LISTS FROM INPUT FILE (FUNCTION).\n",
    "def getLists(iFileName):\n",
    "    print(f\"LOAD: getting lists of numbers from '{iFileName}'.\")\n",
    "    \n",
    "    #  VARIABLES.\n",
    "    list_lists = []\n",
    "\n",
    "    #  OPERATIONS.\n",
    "    input_file = open(iFileName, 'r')\n",
    "    for input_line_str in input_file.readlines():\n",
    "        input_line_str_clean = input_line_str.strip().replace(' ', '')\n",
    "        input_list_str = input_line_str_clean.split(',')\n",
    "        input_list = list(map(int, input_list_str))\n",
    "        list_lists.append(input_list)\n",
    "    input_file.close()\n",
    "    \n",
    "    print(f\"LOAD: {len(list_lists)} lists of numbers imported, from '{iFileName}'.\")\n",
    "    return list_lists\n"
   ]
  },
  {
   "cell_type": "code",
   "execution_count": null,
   "id": "fb9b8262",
   "metadata": {},
   "outputs": [],
   "source": [
    "#  GET NUMBER ACCORDING TO REQUIREMENTS (FUNCTION).\n",
    "def solution(A):\n",
    "    print(f\"SEARCHING: looking for target number on list '{A}'.\")\n",
    "    \n",
    "    #  VARIABLES.\n",
    "    iList = A\n",
    "    number_searched = None\n",
    "    condition_assumption_1 = False\n",
    "    condition_assumption_2 = False\n",
    "\n",
    "    #  OPERATIONS.\n",
    "    #  AssumptionS validation; both must be 'True', for function to return a number.\n",
    "    #  Assumption 1:\n",
    "    if len(iList) <= 100000 : condition_assumption_1 = True\n",
    "    #  Assumption 2:\n",
    "    min_iList = min(iList)\n",
    "    max_iList = max(iList)\n",
    "    if ((min_iList >= -1000000) and (max_iList <= 1000000)) : condition_assumption_2 = True\n",
    "\n",
    "    #  If all conditions are 'True', searches the number; otherwise returns default value of 'None'.\n",
    "    if all([condition_assumption_1, condition_assumption_2]):\n",
    "        \n",
    "        #  Gets list of uniques (converting to a 'set'), and then gets a copy sorted.\n",
    "        list_uniques = list(set(iList))\n",
    "        list_sorted_uniques = sorted(list_uniques)\n",
    "\n",
    "        # Traverse clean list to validate number searching.\n",
    "        for i in range(1, len(list_sorted_uniques)):\n",
    "            # print(f'i: {i} | lower number: {list_sorted_uniques[i - 1]} | upper number: {list_sorted_uniques[i]}')\n",
    "            if ((list_sorted_uniques[i] - list_sorted_uniques[i - 1]) == 1):\n",
    "                number_searched = list_sorted_uniques[i] + 1\n",
    "            else:\n",
    "                number_searched = list_sorted_uniques[i - 1] + 1\n",
    "                break\n",
    "        \n",
    "        # Compares number found so far vs. smallest positive integer (greater than 0).\n",
    "        number_searched = max(1, number_searched)\n",
    "\n",
    "    if number_searched is not None:\n",
    "        print(f\"SEARCHING: target number found is '{number_searched}' on list '{A}'.\")\n",
    "    else:\n",
    "        print(f\"SEARCHING: target number not found, since assumptions weren't met.\")\n",
    "    return number_searched\n"
   ]
  },
  {
   "cell_type": "code",
   "execution_count": 5,
   "id": "5116003e",
   "metadata": {},
   "outputs": [],
   "source": [
    "#  CODE EXECUTION."
   ]
  },
  {
   "cell_type": "code",
   "execution_count": 8,
   "id": "d674791f",
   "metadata": {},
   "outputs": [
    {
     "name": "stdout",
     "output_type": "stream",
     "text": [
      "LOAD: getting lists of numbers from 'test-input.txt'.\n",
      "LOAD: 7 lists of numbers imported, from 'test-input.txt'.\n"
     ]
    }
   ],
   "source": [
    "#  Get lists of numbers.\n",
    "list_lists = getLists(INPUT_FILENAME)\n",
    "# print(list_lists)\n"
   ]
  },
  {
   "cell_type": "code",
   "execution_count": null,
   "id": "cf74d898",
   "metadata": {},
   "outputs": [],
   "source": [
    "#  TEST: search target number for a single list.\n",
    "# list_test = list_lists[0]\n",
    "# number_searched = solution(list_test)\n",
    "# print(number_searched)\n"
   ]
  },
  {
   "cell_type": "code",
   "execution_count": 10,
   "id": "97fdb5b0",
   "metadata": {},
   "outputs": [
    {
     "name": "stdout",
     "output_type": "stream",
     "text": [
      "SEARCHING: looking for target number on list '[1, 3, 6, 4, 1, 2]'.\n",
      "SEARCHING: target number found is '5' on list '[1, 3, 6, 4, 1, 2]'.\n",
      "SEARCHING: looking for target number on list '[1, 2, 3]'.\n",
      "SEARCHING: target number found is '4' on list '[1, 2, 3]'.\n",
      "SEARCHING: looking for target number on list '[-1, -3]'.\n",
      "SEARCHING: target number found is '1' on list '[-1, -3]'.\n",
      "SEARCHING: looking for target number on list '[9, 1000000, 10]'.\n",
      "SEARCHING: target number found is '11' on list '[9, 1000000, 10]'.\n",
      "SEARCHING: looking for target number on list '[1000001, 9, 10]'.\n",
      "SEARCHING: target number not found, since assumptions weren't met.\n",
      "SEARCHING: looking for target number on list '[9, 10, -1000000]'.\n",
      "SEARCHING: target number found is '1' on list '[9, 10, -1000000]'.\n",
      "SEARCHING: looking for target number on list '[9, -1000001, 10]'.\n",
      "SEARCHING: target number not found, since assumptions weren't met.\n"
     ]
    }
   ],
   "source": [
    "#  Search numbers for each list of numbers.\n",
    "for list_item in list_lists:\n",
    "    solution(list_item)\n"
   ]
  },
  {
   "cell_type": "markdown",
   "id": "754989e7",
   "metadata": {},
   "source": [
    "# Testing Code."
   ]
  },
  {
   "cell_type": "markdown",
   "id": "b4084759",
   "metadata": {},
   "source": [
    "## Get list of number lists."
   ]
  },
  {
   "cell_type": "code",
   "execution_count": null,
   "id": "64883b26",
   "metadata": {},
   "outputs": [],
   "source": [
    "# INPUT_FILENAME = 'test-input.txt'\n"
   ]
  },
  {
   "cell_type": "code",
   "execution_count": null,
   "id": "41bf9287",
   "metadata": {},
   "outputs": [
    {
     "name": "stdout",
     "output_type": "stream",
     "text": [
      "LOAD: getting lists of numbers from 'test-input.txt'.\n",
      "LOAD: 7 lists of numbers imported, from 'test-input.txt'.\n",
      "[[1, 3, 6, 4, 1, 2], [1, 2, 3], [-1, -3], [9, 1000000, 10], [1000001, 9, 10], [9, 10, -1000000], [9, -1000001, 10]]\n"
     ]
    }
   ],
   "source": [
    "# list_lists = getLists(INPUT_FILENAME)\n",
    "# print(list_lists)\n"
   ]
  },
  {
   "cell_type": "markdown",
   "id": "0eab8f39",
   "metadata": {},
   "source": [
    "## Search Number Functionality for 1 List."
   ]
  },
  {
   "cell_type": "code",
   "execution_count": null,
   "id": "b4ab52c4",
   "metadata": {},
   "outputs": [
    {
     "name": "stdout",
     "output_type": "stream",
     "text": [
      "[9, -1000001, 10]\n"
     ]
    }
   ],
   "source": [
    "# list_test = list_lists[6]\n",
    "# print(list_test)\n"
   ]
  },
  {
   "cell_type": "code",
   "execution_count": null,
   "id": "b8bf42c5",
   "metadata": {},
   "outputs": [
    {
     "name": "stdout",
     "output_type": "stream",
     "text": [
      "[-1000001, 9, 10]\n"
     ]
    }
   ],
   "source": [
    "#  GETTING LIST OF UNIQUES, AND SORTED.\n",
    "# list_uniques = list(set(list_test))\n",
    "# list_sorted_uniques = sorted(list_uniques)\n",
    "# print(list_sorted_uniques)\n"
   ]
  },
  {
   "cell_type": "code",
   "execution_count": null,
   "id": "ef0ab330",
   "metadata": {},
   "outputs": [],
   "source": [
    "# print(list_sorted_uniques[0], '|', len(list_sorted_uniques), '|', list_sorted_uniques[len(list_sorted_uniques) - 1])\n",
    "# print(list(range(1, len(list_sorted_uniques))))"
   ]
  },
  {
   "cell_type": "code",
   "execution_count": null,
   "id": "03002d76",
   "metadata": {},
   "outputs": [
    {
     "name": "stdout",
     "output_type": "stream",
     "text": [
      "-1000001 10\n",
      "None\n"
     ]
    }
   ],
   "source": [
    "#  GET NUMBER ACCORDING TO REQUIREMENTS. INPUT: 1 LIST.\n",
    "\n",
    "# number_searched = None\n",
    "# condition1 = False\n",
    "# condition2 = False\n",
    "\n",
    "# if len(list_sorted_uniques) <= 100000 : condition1 = True\n",
    "\n",
    "# min_list_sorted_uniques = min(list_sorted_uniques)\n",
    "# max_list_sorted_uniques = max(list_sorted_uniques)\n",
    "# print(min_list_sorted_uniques, max_list_sorted_uniques)\n",
    "# if ((min_list_sorted_uniques >= -1000000) and (max_list_sorted_uniques <= 1000000)) : condition2 = True\n",
    "\n",
    "# if all([condition1, condition2]):\n",
    "#     for i in range(1, len(list_sorted_uniques)):\n",
    "#         # print(f'i: {i} | number: {list_sorted_uniques[i]}')\n",
    "#         if ((list_sorted_uniques[i] - list_sorted_uniques[i - 1]) == 1):\n",
    "#             number_searched = list_sorted_uniques[i] + 1\n",
    "#         else:\n",
    "#             number_searched = list_sorted_uniques[i - 1] + 1\n",
    "#             break\n",
    "#     number_searched = max(1, number_searched)\n",
    "\n",
    "# print(number_searched)"
   ]
  },
  {
   "cell_type": "code",
   "execution_count": null,
   "id": "a08c9622",
   "metadata": {},
   "outputs": [],
   "source": []
  }
 ],
 "metadata": {
  "kernelspec": {
   "display_name": "Python 3",
   "language": "python",
   "name": "python3"
  },
  "language_info": {
   "codemirror_mode": {
    "name": "ipython",
    "version": 3
   },
   "file_extension": ".py",
   "mimetype": "text/x-python",
   "name": "python",
   "nbconvert_exporter": "python",
   "pygments_lexer": "ipython3",
   "version": "3.12.11"
  }
 },
 "nbformat": 4,
 "nbformat_minor": 5
}
